{
 "cells": [
  {
   "cell_type": "code",
   "execution_count": 27,
   "metadata": {},
   "outputs": [],
   "source": [
    "import pandas as pd"
   ]
  },
  {
   "cell_type": "code",
   "execution_count": 28,
   "metadata": {},
   "outputs": [],
   "source": [
    "# create dataframe\n",
    "\n",
    "rounds = ['first', 'second', 'third', 'forth', 'fifth', 'sixth']\n",
    "vals = [1,2,3,4,5,6]\n",
    "whos = ['teamA', 'teamB', 'teamC', 'teamD', 'teamE', 'teamF']\n",
    "\n",
    "df_dict = {'Rounds': rounds, 'Vals': vals, 'Teams': whos}\n",
    "\n",
    "df = pd.DataFrame(df_dict)"
   ]
  },
  {
   "cell_type": "code",
   "execution_count": 29,
   "metadata": {},
   "outputs": [],
   "source": [
    "# add a new column\n",
    "df['w_test'] = [9,7,6,4,3,2]"
   ]
  },
  {
   "cell_type": "code",
   "execution_count": 30,
   "metadata": {},
   "outputs": [],
   "source": [
    "# remove the column\n",
    "df.drop('w_test', axis=1, inplace=True)"
   ]
  },
  {
   "cell_type": "code",
   "execution_count": 31,
   "metadata": {},
   "outputs": [],
   "source": [
    "# add some new data\n",
    "\n",
    "rounds = ['seventh', 'eighth', 'nineth', 'tenth']\n",
    "vals = [7,8,9,10]\n",
    "whos = ['teamG', 'teamH', 'teamI', 'teamJ']\n",
    "\n",
    "df_dict_add = {'Rounds': rounds, 'Vals': vals, 'Teams': whos}\n",
    "\n",
    "\n",
    "df = pd.concat([df, pd.DataFrame(df_dict_add)], sort=False)"
   ]
  },
  {
   "cell_type": "code",
   "execution_count": 32,
   "metadata": {},
   "outputs": [
    {
     "data": {
      "text/html": [
       "<div>\n",
       "<style scoped>\n",
       "    .dataframe tbody tr th:only-of-type {\n",
       "        vertical-align: middle;\n",
       "    }\n",
       "\n",
       "    .dataframe tbody tr th {\n",
       "        vertical-align: top;\n",
       "    }\n",
       "\n",
       "    .dataframe thead th {\n",
       "        text-align: right;\n",
       "    }\n",
       "</style>\n",
       "<table border=\"1\" class=\"dataframe\">\n",
       "  <thead>\n",
       "    <tr style=\"text-align: right;\">\n",
       "      <th></th>\n",
       "      <th>Rounds</th>\n",
       "      <th>Vals</th>\n",
       "      <th>Teams</th>\n",
       "    </tr>\n",
       "  </thead>\n",
       "  <tbody>\n",
       "    <tr>\n",
       "      <th>0</th>\n",
       "      <td>first</td>\n",
       "      <td>1</td>\n",
       "      <td>teamA</td>\n",
       "    </tr>\n",
       "    <tr>\n",
       "      <th>1</th>\n",
       "      <td>second</td>\n",
       "      <td>2</td>\n",
       "      <td>teamB</td>\n",
       "    </tr>\n",
       "    <tr>\n",
       "      <th>2</th>\n",
       "      <td>third</td>\n",
       "      <td>3</td>\n",
       "      <td>teamC</td>\n",
       "    </tr>\n",
       "    <tr>\n",
       "      <th>3</th>\n",
       "      <td>forth</td>\n",
       "      <td>4</td>\n",
       "      <td>teamD</td>\n",
       "    </tr>\n",
       "    <tr>\n",
       "      <th>4</th>\n",
       "      <td>fifth</td>\n",
       "      <td>5</td>\n",
       "      <td>teamE</td>\n",
       "    </tr>\n",
       "    <tr>\n",
       "      <th>5</th>\n",
       "      <td>sixth</td>\n",
       "      <td>6</td>\n",
       "      <td>teamF</td>\n",
       "    </tr>\n",
       "    <tr>\n",
       "      <th>0</th>\n",
       "      <td>seventh</td>\n",
       "      <td>7</td>\n",
       "      <td>teamG</td>\n",
       "    </tr>\n",
       "    <tr>\n",
       "      <th>1</th>\n",
       "      <td>eighth</td>\n",
       "      <td>8</td>\n",
       "      <td>teamH</td>\n",
       "    </tr>\n",
       "    <tr>\n",
       "      <th>2</th>\n",
       "      <td>nineth</td>\n",
       "      <td>9</td>\n",
       "      <td>teamI</td>\n",
       "    </tr>\n",
       "    <tr>\n",
       "      <th>3</th>\n",
       "      <td>tenth</td>\n",
       "      <td>10</td>\n",
       "      <td>teamJ</td>\n",
       "    </tr>\n",
       "  </tbody>\n",
       "</table>\n",
       "</div>"
      ],
      "text/plain": [
       "    Rounds  Vals  Teams\n",
       "0    first     1  teamA\n",
       "1   second     2  teamB\n",
       "2    third     3  teamC\n",
       "3    forth     4  teamD\n",
       "4    fifth     5  teamE\n",
       "5    sixth     6  teamF\n",
       "0  seventh     7  teamG\n",
       "1   eighth     8  teamH\n",
       "2   nineth     9  teamI\n",
       "3    tenth    10  teamJ"
      ]
     },
     "execution_count": 32,
     "metadata": {},
     "output_type": "execute_result"
    }
   ],
   "source": [
    "df"
   ]
  },
  {
   "cell_type": "code",
   "execution_count": 33,
   "metadata": {},
   "outputs": [],
   "source": [
    "# notice above the indexes are unchanged\n",
    "# each dataframe had it own indexes and those are now repeated\n",
    "\n",
    "# for solving this it is necessary reseting the index"
   ]
  },
  {
   "cell_type": "code",
   "execution_count": null,
   "metadata": {},
   "outputs": [],
   "source": []
  }
 ],
 "metadata": {
  "kernelspec": {
   "display_name": ".venv",
   "language": "python",
   "name": "python3"
  },
  "language_info": {
   "codemirror_mode": {
    "name": "ipython",
    "version": 3
   },
   "file_extension": ".py",
   "mimetype": "text/x-python",
   "name": "python",
   "nbconvert_exporter": "python",
   "pygments_lexer": "ipython3",
   "version": "3.10.5"
  },
  "orig_nbformat": 4,
  "vscode": {
   "interpreter": {
    "hash": "898b411d12065df604507501b4114d794bd8379c2ea606d78c64d76952eb20e2"
   }
  }
 },
 "nbformat": 4,
 "nbformat_minor": 2
}
